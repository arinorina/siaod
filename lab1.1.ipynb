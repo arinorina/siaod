{
 "cells": [
  {
   "cell_type": "markdown",
   "id": "2219259e",
   "metadata": {},
   "source": [
    "# Лабораторная работа №1\n",
    "## Выполнила студентка группы БВТ2002 Айвазян Арина\n",
    "### Задание №1\n",
    "Создайте ячейку и напишите следующий код: print(“Hello, World!”)"
   ]
  },
  {
   "cell_type": "code",
   "execution_count": 1,
   "id": "5b96130e",
   "metadata": {},
   "outputs": [
    {
     "name": "stdout",
     "output_type": "stream",
     "text": [
      "Hello, World!\n"
     ]
    }
   ],
   "source": [
    "print(\"Hello, World!\")"
   ]
  },
  {
   "cell_type": "markdown",
   "id": "979a2e90",
   "metadata": {},
   "source": [
    "### Задание №2\n",
    "Написать генератор случайных матриц(многомерных), который принимает\n",
    "опциональные параметры m, n, min_limit, max_limit, где m и n указывают размер\n",
    "матрицы, а min_lim и max_lim - минимальное и максимальное значение для\n",
    "генерируемого числа . По умолчанию при отсутствии параметров принимать следующие\n",
    "значения:\n",
    "m = 50\n",
    "n = 50\n",
    "min_limit = -250\n",
    "max_limit = 1000 + (номер своего варианта)"
   ]
  },
  {
   "cell_type": "code",
   "execution_count": 2,
   "id": "b7820de8",
   "metadata": {},
   "outputs": [],
   "source": [
    "import random\n",
    "\n",
    "def generate_array(length=100):  # генерирует случайный массив\n",
    "    array = []\n",
    "    while len(array) < length:\n",
    "        array.append(random.randint(0, 1000))\n",
    "    return array\n",
    "\n",
    "init_array = generate_array(1_000)  # Генерация массива, который будет отсортирован"
   ]
  },
  {
   "cell_type": "markdown",
   "id": "dabef5df",
   "metadata": {},
   "source": [
    "### Задание №3\n",
    "Реализовать методы сортировки строк числовой матрицы в соответствии с\n",
    "заданием. Оценить время работы каждого алгоритма сортировки и сравнить его со\n",
    "временем стандартной функции сортировки. Испытания проводить на сгенерированных матрицах.\n",
    "\n",
    "Методы: выбором, вставкой, обменом, Шелла, быстрая сортировка, пирамидальная"
   ]
  },
  {
   "cell_type": "markdown",
   "id": "9752d271",
   "metadata": {},
   "source": [
    "#### Сортировка выбором:"
   ]
  },
  {
   "cell_type": "code",
   "execution_count": 3,
   "id": "ad30945b",
   "metadata": {},
   "outputs": [],
   "source": [
    "def selection_sort(array):  # Сортировка выбором (selection sort)\n",
    "    for main_index in range(len(array)):\n",
    "        min_index = main_index\n",
    "        for index in range(main_index, len(array)):\n",
    "            if array[index] < array[main_index]:\n",
    "                min_index = index\n",
    "        array[main_index], array[min_index] = array[min_index], array[main_index]\n",
    "    return array"
   ]
  },
  {
   "cell_type": "markdown",
   "id": "90db7a6b",
   "metadata": {},
   "source": [
    "#### Сортировка вставками:"
   ]
  },
  {
   "cell_type": "code",
   "execution_count": 4,
   "id": "7c7f0020",
   "metadata": {},
   "outputs": [],
   "source": [
    "def ins_sort(array):  # Сортировка вставками (insertion sort)\n",
    "    for main_index in range(len(array)):  # Идём вперёд\n",
    "        if main_index != len(array) - 1 and array[main_index] > array[main_index + 1]:\n",
    "            array[main_index], array[main_index + 1] = array[main_index + 1], array[main_index]\n",
    "            for index in range(len(array) - 1, 0, -1):  # Идём назад\n",
    "                if array[index] <= array[index - 1]:\n",
    "                    array[index - 1], array[index] = array[index], array[index - 1]\n",
    "    return array"
   ]
  },
  {
   "cell_type": "markdown",
   "id": "d67532d0",
   "metadata": {},
   "source": [
    "#### Сортировка обменом:"
   ]
  },
  {
   "cell_type": "code",
   "execution_count": 5,
   "id": "5be0d831",
   "metadata": {},
   "outputs": [],
   "source": [
    "def bubble_sort(array):  # Сортировка обменом (bubble sort)\n",
    "    for main_index in range(len(array) - 1):\n",
    "        for index in range(0, len(array) - main_index - 1):\n",
    "            if array[index] > array[index + 1]:\n",
    "                array[index], array[index + 1] = array[index + 1], array[index]\n",
    "    return array"
   ]
  },
  {
   "cell_type": "markdown",
   "id": "f1b724c0",
   "metadata": {},
   "source": [
    "#### Сортировка Шелла:"
   ]
  },
  {
   "cell_type": "code",
   "execution_count": 6,
   "id": "fababd35",
   "metadata": {},
   "outputs": [],
   "source": [
    "def shell_sort(array):\n",
    "    gap = len(array) // 2\n",
    "    while gap > 0:\n",
    "        for i in range(gap, len(array)):\n",
    "            temp = array[i]\n",
    "            j = i\n",
    "            while j >= gap and array[j - gap] > temp:\n",
    "                array[j] = array[j - gap]\n",
    "                j -= gap\n",
    "            array[j] = temp\n",
    "        gap //= 2\n",
    "    return array"
   ]
  },
  {
   "cell_type": "markdown",
   "id": "cad4ce2b",
   "metadata": {},
   "source": [
    "#### Пирамидальная сортировка:"
   ]
  },
  {
   "cell_type": "code",
   "execution_count": 7,
   "id": "5586d0db",
   "metadata": {},
   "outputs": [],
   "source": [
    "def heapify(array, length, index_of_largest):\n",
    "    largest = index_of_largest\n",
    "    child_left = 2 * index_of_largest + 1\n",
    "    child_right = 2 * index_of_largest + 2\n",
    "\n",
    "    if child_left < length and array[largest] < array[child_left]:\n",
    "        largest = child_left\n",
    "\n",
    "    if child_right < length and array[largest] < array[child_right]:\n",
    "        largest = child_right\n",
    "\n",
    "    if largest != index_of_largest:\n",
    "        array[index_of_largest], array[largest] = array[largest], array[index_of_largest]\n",
    "\n",
    "        heapify(array, length, largest)\n",
    "\n",
    "\n",
    "def heap_sort(array):\n",
    "    n = len(array)\n",
    "\n",
    "    for i in range(n, -1, -1):\n",
    "        heapify(array, n, i)\n",
    "\n",
    "    for i in range(n - 1, 0, -1):\n",
    "        array[i], array[0] = array[0], array[i]\n",
    "        heapify(array, i, 0)\n",
    "    return array"
   ]
  },
  {
   "cell_type": "markdown",
   "id": "90082bbe",
   "metadata": {},
   "source": [
    "#### Быстрая сортировка:"
   ]
  },
  {
   "cell_type": "code",
   "execution_count": 8,
   "id": "a9527a10",
   "metadata": {},
   "outputs": [],
   "source": [
    "def qsort(array):\n",
    "    if not array:  # Если пустой массив\n",
    "        return array\n",
    "    pivot = array[random.choice(range(0, len(array)))]\n",
    "\n",
    "    head = qsort([x for x in array if x < pivot])\n",
    "    tail = qsort([x for x in array if x > pivot])\n",
    "    return head + [x for x in array if x == pivot] + tail"
   ]
  },
  {
   "cell_type": "markdown",
   "id": "32b26683",
   "metadata": {},
   "source": [
    "### Сортировка по умолчанию:"
   ]
  },
  {
   "cell_type": "code",
   "execution_count": 9,
   "id": "d9f3603e",
   "metadata": {},
   "outputs": [
    {
     "ename": "NameError",
     "evalue": "name 'timeit' is not defined",
     "output_type": "error",
     "traceback": [
      "\u001b[1;31m---------------------------------------------------------------------------\u001b[0m",
      "\u001b[1;31mNameError\u001b[0m                                 Traceback (most recent call last)",
      "\u001b[1;32m~\\AppData\\Local\\Temp/ipykernel_13128/3691962825.py\u001b[0m in \u001b[0;36m<module>\u001b[1;34m\u001b[0m\n\u001b[0;32m      3\u001b[0m     \u001b[1;32mreturn\u001b[0m \u001b[0marray\u001b[0m\u001b[1;33m\u001b[0m\u001b[1;33m\u001b[0m\u001b[0m\n\u001b[0;32m      4\u001b[0m \u001b[1;33m\u001b[0m\u001b[0m\n\u001b[1;32m----> 5\u001b[1;33m \u001b[0mprint\u001b[0m\u001b[1;33m(\u001b[0m\u001b[1;34m\"Сортировка по умолчанию   \"\u001b[0m \u001b[1;33m+\u001b[0m \u001b[0mstr\u001b[0m\u001b[1;33m(\u001b[0m\u001b[0mtimeit\u001b[0m\u001b[1;33m.\u001b[0m\u001b[0mtimeit\u001b[0m\u001b[1;33m(\u001b[0m\u001b[1;34m\"default_sort(init_array)\"\u001b[0m\u001b[1;33m,\u001b[0m \u001b[0mnumber\u001b[0m\u001b[1;33m=\u001b[0m\u001b[1;36m1\u001b[0m\u001b[1;33m,\u001b[0m \u001b[0mglobals\u001b[0m\u001b[1;33m=\u001b[0m\u001b[0mglobals\u001b[0m\u001b[1;33m(\u001b[0m\u001b[1;33m)\u001b[0m\u001b[1;33m)\u001b[0m\u001b[1;33m)\u001b[0m\u001b[1;33m)\u001b[0m\u001b[1;33m\u001b[0m\u001b[1;33m\u001b[0m\u001b[0m\n\u001b[0m",
      "\u001b[1;31mNameError\u001b[0m: name 'timeit' is not defined"
     ]
    }
   ],
   "source": [
    "def default_sort(array):  # Сортируем с помощью встроенной функции\n",
    "    array.sort()\n",
    "    return array\n",
    "\n",
    "print(\"Сортировка по умолчанию   \" + str(timeit.timeit(\"default_sort(init_array)\", number=1, globals=globals())))\n"
   ]
  },
  {
   "cell_type": "markdown",
   "id": "7c75ad5c",
   "metadata": {},
   "source": [
    "#### Измерение времени каждого способа сортировки:"
   ]
  },
  {
   "cell_type": "code",
   "execution_count": null,
   "id": "08f110d3",
   "metadata": {},
   "outputs": [],
   "source": [
    "import timeit\n",
    "\n",
    "print('', + str(\"%.3g\" % timeit.timeit('shell_sort(matrix)', number=1, globals=globals())))\n",
    "#bubble_sort(matrix)\n",
    "#print('Сортировка выбором заняла', timeit.timeit(), 'секунд')\n",
    "\n",
    "#insertion_sort(matrix)\n",
    "#print('Сортировка вставками заняла', timeit.timeit(), 'секунд')\n",
    "\n",
    "#swap_sort(matrix)\n",
    "#print('Сортировка обменом заняла', timeit.timeit(), 'секунд')\n",
    "\n",
    "#shell_sort(matrix)\n",
    "#print('Сортировка Шелла заняла', timeit.timeit() , 'секунд')\n",
    "\n",
    "#shell_sort(matrix)\n",
    "#print('Пирамидальная сортировка заняла', timeit.timeit(), 'секунд')\n",
    "\n",
    "#quick_sort(matrix)\n",
    "#print('Быстрая сортировка заняла', timeit.timeit(), 'секунд')\n"
   ]
  },
  {
   "cell_type": "code",
   "execution_count": null,
   "id": "696e6ebc",
   "metadata": {},
   "outputs": [],
   "source": [
    "import timeit\n",
    "\n",
    "# Сортировка массива и вывод времени\n",
    "print(\"Сортировка по умолчанию   \" + str(timeit.timeit(\"default_sort(init_array)\", number=1, globals=globals())))\n",
    "print(\"Сортировка выбором        \" + str(timeit.timeit(\"selection_sort(init_array)\", number=1, globals=globals())))\n",
    "print(\"Сортировка вставками      \" + str(timeit.timeit(\"ins_sort(init_array)\", number=1, globals=globals())))\n",
    "print(\"Сортировка обменом        \" + str(timeit.timeit(\"bubble_sort(init_array)\", number=1, globals=globals())))\n",
    "print(\"Сортировка Шелла          \" + str(timeit.timeit(\"shell_sort(init_array)\", number=1, globals=globals())))\n",
    "print(\"Пирамидальня Сортировка   \" + str(timeit.timeit(\"heap_sort(init_array)\", number=1, globals=globals())))\n",
    "print(\"Быстрая сортировка        \" + str(timeit.timeit(\"qsort(init_array)\", number=1, globals=globals())))\n"
   ]
  },
  {
   "cell_type": "code",
   "execution_count": null,
   "id": "5b390301",
   "metadata": {},
   "outputs": [],
   "source": []
  }
 ],
 "metadata": {
  "kernelspec": {
   "display_name": "Python 3 (ipykernel)",
   "language": "python",
   "name": "python3"
  },
  "language_info": {
   "codemirror_mode": {
    "name": "ipython",
    "version": 3
   },
   "file_extension": ".py",
   "mimetype": "text/x-python",
   "name": "python",
   "nbconvert_exporter": "python",
   "pygments_lexer": "ipython3",
   "version": "3.9.7"
  }
 },
 "nbformat": 4,
 "nbformat_minor": 5
}
