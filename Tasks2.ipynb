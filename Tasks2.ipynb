{
 "cells": [
  {
   "cell_type": "markdown",
   "id": "arctic-stocks",
   "metadata": {},
   "source": [
    "### Задание №1\n",
    "Массив A состоит из целых положительных чисел длин отрезков. Составьте из трех отрезков такой треугольник, чтобы его периметр был максимально возможным. Если невозможно составить треугольник с положительной площадью функция возвращает 0."
   ]
  },
  {
   "cell_type": "code",
   "execution_count": 1,
   "id": "caring-truck",
   "metadata": {
    "scrolled": false
   },
   "outputs": [
    {
     "name": "stdout",
     "output_type": "stream",
     "text": [
      "5\n"
     ]
    }
   ],
   "source": [
    "def puzir(arr):\n",
    "    length = len(arr)\n",
    "    for i in range(length-1):\n",
    "        for j in range(length-i-1):\n",
    "            if arr[j] < arr[j+1]:\n",
    "                arr[j], arr[j+1] = arr[j+1], arr[j]\n",
    "    return arr\n",
    "\n",
    "\n",
    "def max_per(arr):\n",
    "    length = len(arr)\n",
    "    for i in range(length-2):\n",
    "        if arr[i]+arr[i+1] > arr[i+2] and arr[i]+arr[i+2] > arr[i+1] and arr[i+2]+arr[i+1] > arr[i]:\n",
    "            per = arr[i] + arr[i+1] + arr[i+2]\n",
    "            return per\n",
    "    return 0\n",
    "\n",
    "arr = [2, 1, 2]\n",
    "print(max_per(arr))"
   ]
  },
  {
   "cell_type": "markdown",
   "id": "maritime-conversation",
   "metadata": {},
   "source": [
    "### Задание №2\n",
    "Дан массив неотрицательных целых чисел nums. Расположите их в таком порядке, чтобы вместе они образовали максимально возможное число. Замечание: Результат может быть очень большим числом, поэтому представьте его как string, а не integer."
   ]
  },
  {
   "cell_type": "code",
   "execution_count": 1,
   "id": "alert-charm",
   "metadata": {
    "scrolled": false
   },
   "outputs": [
    {
     "name": "stdout",
     "output_type": "stream",
     "text": [
      "[130  51   4 121  39]\n",
      "51439130121\n",
      "[2432, 24323]\n",
      "243224323\n"
     ]
    }
   ],
   "source": [
    "import numpy\n",
    "from copy import deepcopy\n",
    "\n",
    "\n",
    "def biggest_first_number(row):\n",
    "    ans_row = deepcopy(row)\n",
    "\n",
    "    max = -3\n",
    "    for i in range(len(row)):\n",
    "        if ans_row[i][0] >= max:\n",
    "            max = ans_row[i][0]\n",
    "    for i in range(len(row)):\n",
    "        if ans_row[i][0] != max and ans_row[i][0] >= 0:\n",
    "            ans_row[i][0] = -2\n",
    "    return ans_row\n",
    "\n",
    "\n",
    "def add_best_numbers(row, original_row):\n",
    "    big_number = ''\n",
    "    isNeededToBeChecked = False\n",
    "\n",
    "    for i in range(len(row)):\n",
    "        if row[i][0] >= 0:  \n",
    "            if len(row[i]) == 1:\n",
    "                big_number += str(''.join(map(str, original_row[i])))\n",
    "                row[i][0] = -1\n",
    "            else:\n",
    "                row[i].__delitem__(0)\n",
    "                isNeededToBeChecked = True\n",
    "\n",
    "    length = len(row)\n",
    "    i = 0\n",
    "    while i < length:  # удаляем добавленные числа\n",
    "        if row[i][0] == -1:\n",
    "            original_row.__delitem__(i)\n",
    "            row.__delitem__(i)\n",
    "            length -= 1\n",
    "        else:\n",
    "            i += 1\n",
    "\n",
    "    if isNeededToBeChecked:\n",
    "        best_numbers = biggest_first_number(row)\n",
    "        big_number += add_best_numbers(best_numbers, original_row)\n",
    "    return big_number\n",
    "\n",
    "\n",
    "def find_max(row):\n",
    "    length = len(row)\n",
    "    big_number = ''\n",
    "\n",
    "    raw_row = [''] * length\n",
    "\n",
    "    for i in range(length):\n",
    "        number = str(row[i])  # превращаем наши числа в массив символов\n",
    "        raw_row[i] = list(number)  # записываем наш массив в массив\n",
    "        raw_row[i] = [int(raw_row[i]) for raw_row[i] in raw_row[i]]\n",
    "\n",
    "    while len(raw_row) != 0:\n",
    "        best_numbers = biggest_first_number(raw_row)  # находим лучших кандидатов\n",
    "\n",
    "        big_number += add_best_numbers(best_numbers, raw_row)\n",
    "\n",
    "    return big_number\n",
    "\n",
    "row = numpy.random.randint(1, 150, size=5)\n",
    "print(row)\n",
    "result = find_max(row)\n",
    "print(result)"
   ]
  },
  {
   "cell_type": "markdown",
   "id": "catholic-roots",
   "metadata": {},
   "source": [
    "### Задание №3\n",
    "Дана матрица mat размером m * n, значения целочисленные. Напишите функцию, сортирующую каждую диагональ матрицы по возрастанию и возвращающую получившуюся матрицу."
   ]
  },
  {
   "cell_type": "code",
   "execution_count": 4,
   "id": "cleared-anniversary",
   "metadata": {
    "scrolled": false
   },
   "outputs": [
    {
     "name": "stdout",
     "output_type": "stream",
     "text": [
      "[[3 9 2 2]\n",
      " [2 8 5 5]\n",
      " [8 4 8 8]\n",
      " [0 8 3 4]\n",
      " [0 8 4 0]]\n",
      "[[3 5 2 2]\n",
      " [0 4 8 5]\n",
      " [4 2 8 9]\n",
      " [0 8 3 8]\n",
      " [0 8 8 4]]\n"
     ]
    }
   ],
   "source": [
    "import numpy\n",
    "\n",
    "def sort_matrix(mat):\n",
    "    height = len(mat)\n",
    "    width = len(mat[0])\n",
    "\n",
    "    for x_start in range(1, width):\n",
    "        line = []\n",
    "        x = x_start\n",
    "        for y in range(height - (0 if width - height - x >= 0 else abs(width - height - x)) ):\n",
    "            line.append(mat[y][x])\n",
    "            x += 1\n",
    "        #print(line)\n",
    "        line.sort()\n",
    "        #print(line)\n",
    "\n",
    "        x = x_start\n",
    "        for y in range(height - (0 if width - height - x >= 0 else abs(width - height - x)) ):\n",
    "            mat[y][x] = line[y]\n",
    "            x += 1\n",
    "\n",
    "    for y_start in range(0, height):\n",
    "        line = []\n",
    "        y = y_start\n",
    "        for x in range(width - (0 if height - width - y >= 0 else abs(height - width - y)) ):\n",
    "            line.append(mat[y][x])\n",
    "            y += 1\n",
    "        #print(line)\n",
    "        line.sort()\n",
    "        #print(line)\n",
    "\n",
    "        y = y_start\n",
    "        for x in range(width - (0 if height - width - y >= 0 else abs(height - width - y)) ):\n",
    "            mat[y][x] = line[x]\n",
    "            y += 1\n",
    "            \n",
    "            \n",
    "matrix = numpy.random.randint(0, 10, size=(5,4))\n",
    "print(matrix)\n",
    "\n",
    "sort_matrix(matrix)\n",
    "print(matrix)"
   ]
  },
  {
   "cell_type": "code",
   "execution_count": null,
   "id": "297302de",
   "metadata": {},
   "outputs": [],
   "source": []
  }
 ],
 "metadata": {
  "kernelspec": {
   "display_name": "Python 3 (ipykernel)",
   "language": "python",
   "name": "python3"
  },
  "language_info": {
   "codemirror_mode": {
    "name": "ipython",
    "version": 3
   },
   "file_extension": ".py",
   "mimetype": "text/x-python",
   "name": "python",
   "nbconvert_exporter": "python",
   "pygments_lexer": "ipython3",
   "version": "3.9.7"
  }
 },
 "nbformat": 4,
 "nbformat_minor": 5
}
