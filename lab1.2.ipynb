{
 "cells": [
  {
   "cell_type": "markdown",
   "id": "2219259e",
   "metadata": {},
   "source": [
    "# Лабораторная работа №1\n",
    "## Выполнила студентка группы БВТ2002 Айвазян Арина\n",
    "### Задание №1\n",
    "Создайте ячейку и напишите следующий код: print(“Hello, World!”)"
   ]
  },
  {
   "cell_type": "code",
   "execution_count": 1,
   "id": "5b96130e",
   "metadata": {},
   "outputs": [
    {
     "name": "stdout",
     "output_type": "stream",
     "text": [
      "Hello, World!\n"
     ]
    }
   ],
   "source": [
    "print(\"Hello, World!\")"
   ]
  },
  {
   "cell_type": "markdown",
   "id": "979a2e90",
   "metadata": {},
   "source": [
    "### Задание №2\n",
    "Написать генератор случайных матриц(многомерных), который принимает\n",
    "опциональные параметры m, n, min_limit, max_limit, где m и n указывают размер\n",
    "матрицы, а min_lim и max_lim - минимальное и максимальное значение для\n",
    "генерируемого числа . По умолчанию при отсутствии параметров принимать следующие\n",
    "значения:\n",
    "m = 50\n",
    "n = 50\n",
    "min_limit = -250\n",
    "max_limit = 1000 + (номер своего варианта)"
   ]
  },
  {
   "cell_type": "code",
   "execution_count": null,
   "id": "b7820de8",
   "metadata": {},
   "outputs": [],
   "source": [
    "import random\n",
    "def gen_rand_matrix(n=50,m=50,min_limit=-250,max_limit=1002):\n",
    "    \n",
    "    a=[]\n",
    "    for i in range(n):\n",
    "        t=[]\n",
    "        for j in range(m):\n",
    "            t.append(random.randint(min_limit,max_limit))\n",
    "        a.append(t)\n",
    "    return (a)\n",
    "    \n",
    "print(gen_rand_matrix())\n",
    "\n",
    "import time\n",
    "def time_it(func):\n",
    "    def wrapper(*args, **kwargs):\n",
    "        time_now = time.time()\n",
    "        res = func(*args,**kwargs)\n",
    "        print(round(time.time()-time_now,2),'seconds')\n",
    "        return res\n",
    "    return wrapper"
   ]
  },
  {
   "cell_type": "markdown",
   "id": "dabef5df",
   "metadata": {},
   "source": [
    "### Задание №3\n",
    "Реализовать методы сортировки строк числовой матрицы в соответствии с\n",
    "заданием. Оценить время работы каждого алгоритма сортировки и сравнить его со\n",
    "временем стандартной функции сортировки. Испытания проводить на сгенерированных матрицах.\n",
    "\n",
    "Методы: выбором, вставкой, обменом, Шелла, быстрая сортировка, пирамидальная, турнирная."
   ]
  },
  {
   "cell_type": "markdown",
   "id": "9752d271",
   "metadata": {},
   "source": [
    "#### Сортировка выбором:"
   ]
  },
  {
   "cell_type": "code",
   "execution_count": 2,
   "id": "ad30945b",
   "metadata": {},
   "outputs": [],
   "source": [
    "@time_it\n",
    "def selection_sort(result):\n",
    "    res = []\n",
    "    for k in result:\n",
    "\n",
    "        arr = k\n",
    "        for i in range (len(k)-1):\n",
    "            min_value = arr[i]\n",
    "            p=i\n",
    "            for j in range (i+1, len(k)):\n",
    "                if arr[j] < min_value:\n",
    "                    min_value = arr[j]\n",
    "                    p=j\n",
    "            arr[p], arr[i] = arr[i], arr[p]\n",
    "        res.append(arr)\n",
    "    return res"
   ]
  },
  {
   "cell_type": "markdown",
   "id": "90db7a6b",
   "metadata": {},
   "source": [
    "#### Сортировка вставками:"
   ]
  },
  {
   "cell_type": "code",
   "execution_count": 3,
   "id": "7c7f0020",
   "metadata": {},
   "outputs": [],
   "source": [
    "@time_it\n",
    "def insert_sort(result):\n",
    "    res = []\n",
    "    for k in result:\n",
    "        arr = k\n",
    "        for i in range (1, len(k)):\n",
    "            current_value = arr[i]\n",
    "            current_position = i\n",
    "            while (current_position>0) and (current_value < arr[current_position-1]):\n",
    "                arr[current_position] = arr[current_position-1]\n",
    "                current_position -= 1\n",
    "            arr[current_position] = current_value\n",
    "        res.append(arr)\n",
    "    return res"
   ]
  },
  {
   "cell_type": "markdown",
   "id": "d67532d0",
   "metadata": {},
   "source": [
    "#### Сортировка обменом:"
   ]
  },
  {
   "cell_type": "code",
   "execution_count": 4,
   "id": "5be0d831",
   "metadata": {},
   "outputs": [],
   "source": [
    "@time_it\n",
    "def buble_sort(result):\n",
    "    # print (result)\n",
    "    res=[]\n",
    "    for k in result:\n",
    "        arr = k\n",
    "        buble = len(k)\n",
    "        while buble > 1:\n",
    "            for i in range(buble-1):\n",
    "                if arr[i] > arr[i+1]:\n",
    "                    arr[i], arr[i+1] = arr[i+1],arr[i]\n",
    "            buble -= 1\n",
    "        res.append(arr)\n",
    "    return res"
   ]
  },
  {
   "cell_type": "markdown",
   "id": "f1b724c0",
   "metadata": {},
   "source": [
    "#### Сортировка Шелла:"
   ]
  },
  {
   "cell_type": "code",
   "execution_count": 5,
   "id": "fababd35",
   "metadata": {},
   "outputs": [],
   "source": [
    "@time_it\n",
    "def shell_sort(result):\n",
    "    res=[]\n",
    "    for k in result:\n",
    "        arr = k\n",
    "\n",
    "        diapason = len(k)//2\n",
    "        while diapason > 0:\n",
    "            for i in range(diapason, len(k)):\n",
    "                current_value = arr[i]\n",
    "                position = i\n",
    "                while position >= diapason and arr[position-diapason] > current_value:\n",
    "                    arr[position] = arr[position-diapason]\n",
    "                    position -= diapason\n",
    "                    arr[position] = current_value\n",
    "\n",
    "\n",
    "            diapason //= 2\n",
    "        res.append(arr)\n",
    "    return res"
   ]
  },
  {
   "cell_type": "markdown",
   "id": "cad4ce2b",
   "metadata": {},
   "source": [
    "#### Пирамидальная сортировка:"
   ]
  },
  {
   "cell_type": "code",
   "execution_count": 6,
   "id": "5586d0db",
   "metadata": {},
   "outputs": [],
   "source": [
    "@time_it\n",
    "def heap_sort(result):\n",
    "    res=[]\n",
    "    for k in result:\n",
    "        arr = k\n",
    "        length = len(arr)\n",
    "\n",
    "        def swap_items(index1, index2): # меняем местами два элемента\n",
    "            if arr[index1] < arr[index2]:\n",
    "                arr[index1], arr[index2] = arr[index2], arr[index1]\n",
    "\n",
    "        def max_find (parent, limit): #ищем максимальный среди родителей и потомков\n",
    "\n",
    "            while True:\n",
    "                child = parent * 2 + 2\n",
    "                if child < limit:\n",
    "                    if arr[child] < arr[child - 1]:\n",
    "                        child -= 1\n",
    "                    swap_items(parent, child)\n",
    "                    parent = child\n",
    "                else:\n",
    "                    break\n",
    "\n",
    "        for index in range(int(length // 2) - 1, -1, -1): # формируем первое дерево\n",
    "            max_find(index, length)\n",
    "\n",
    "        for index in range(length - 1, 0, -1): #выносим максимальный назад и ставим минимум на свое место\n",
    "            swap_items(index, 0)\n",
    "            max_find(0, index)\n",
    "        res.append(arr)\n",
    "    return res"
   ]
  },
  {
   "cell_type": "markdown",
   "id": "1139364f",
   "metadata": {},
   "source": [
    "#### Турнирная сортировка"
   ]
  },
  {
   "cell_type": "code",
   "execution_count": 7,
   "id": "0e132105",
   "metadata": {},
   "outputs": [],
   "source": [
    "import heapq\n",
    "from queue import Queue\n",
    "\n",
    "def turnir_sort(arr):\n",
    "\n",
    "    queue_ = Queue()\n",
    "    for element in arr:\n",
    "        queue_.put(element)\n",
    "    winners = []\n",
    "    losers = []\n",
    "    mini_heap = []\n",
    "    for i in range(min(7, len(arr))):\n",
    "        mini_heap.append(queue_.get())\n",
    "    heapq.heapify(mini_heap)\n",
    "    while mini_heap:\n",
    "        heap_min = heapq.heappop(mini_heap)\n",
    "        if not winners or heap_min >= winners[-1]:\n",
    "            winners.append(heap_min)\n",
    "        else:\n",
    "            losers.append(heap_min)\n",
    "        if not queue_.empty():\n",
    "            heapq.heappush(mini_heap, queue_.get())\n",
    "    if losers:\n",
    "        return turnir_sort(losers + winners)\n",
    "    return losers + winners\n",
    "\n",
    "@time_it\n",
    "def sort_tournament(result):\n",
    "    arr = []\n",
    "    for k in result:\n",
    "        arr.append(turnir_sort(k.copy()))\n",
    "    return arr"
   ]
  },
  {
   "cell_type": "markdown",
   "id": "90082bbe",
   "metadata": {},
   "source": [
    "#### Быстрая сортировка:"
   ]
  },
  {
   "cell_type": "code",
   "execution_count": 8,
   "id": "a9527a10",
   "metadata": {},
   "outputs": [],
   "source": [
    "def quick1_sort (arr):\n",
    "    if len(arr) <= 1:\n",
    "        return arr\n",
    "\n",
    "    elem = arr[0]\n",
    "    left = list(filter(lambda x: x < elem, arr))\n",
    "    center = [i for i in arr if i == elem]\n",
    "    right = list(filter(lambda x: x > elem, arr))\n",
    "\n",
    "    return quick1_sort(left) + center + quick1_sort(right)\n",
    "\n",
    "@time_it\n",
    "def quick_sort(result):\n",
    "    arr=[]\n",
    "    for k in result:\n",
    "        arr.append(quick1_sort(k))\n",
    "    return arr"
   ]
  },
  {
   "cell_type": "markdown",
   "id": "32b26683",
   "metadata": {},
   "source": [
    "### Сортировка по умолчанию:"
   ]
  },
  {
   "cell_type": "code",
   "execution_count": 9,
   "id": "d9f3603e",
   "metadata": {},
   "outputs": [],
   "source": [
    "@time_it\n",
    "def default_sort(result):\n",
    "    res = []\n",
    "    for k in result:\n",
    "        arr = k\n",
    "        mass = sorted(arr)\n",
    "        res.append(mass)\n",
    "    return res"
   ]
  },
  {
   "cell_type": "markdown",
   "id": "7c75ad5c",
   "metadata": {},
   "source": [
    "#### Измерение времени каждого способа сортировки:"
   ]
  },
  {
   "cell_type": "code",
   "execution_count": 10,
   "id": "5b390301",
   "metadata": {},
   "outputs": [
    {
     "name": "stdout",
     "output_type": "stream",
     "text": [
      "Сортировка Шелла: 4.14 seconds\n",
      "Сортировка обменом: 128.77 seconds\n",
      "Сортировка вставками: 81.09 seconds\n",
      "Сортировка выбором: 39.01 seconds\n",
      "Турнирная сортировка: 509.27 seconds\n",
      "Быстрая сортировка: 4.62 seconds\n",
      "Сортировка кучей: 7.23 seconds\n",
      "Встроенная сортировка: 0.17 seconds\n"
     ]
    }
   ],
   "source": [
    "import copy\n",
    "\n",
    "result1 = gen_rand_matrix(1000,1000)\n",
    "print ('Сортировка Шелла:', end=' ')\n",
    "a=shell_sort(copy.deepcopy(result1))\n",
    "print ('Сортировка обменом:', end=' ')\n",
    "b=buble_sort(copy.deepcopy(result1))\n",
    "print ('Сортировка вставками:', end=' ')\n",
    "c=insert_sort(copy.deepcopy(result1))\n",
    "print ('Сортировка выбором:', end=' ')\n",
    "d=selection_sort(copy.deepcopy(result1))\n",
    "print ('Турнирная сортировка:', end=' ')\n",
    "e=sort_tournament(copy.deepcopy(result1))\n",
    "print ('Быстрая сортировка:', end=' ')\n",
    "f=quick_sort(copy.deepcopy(result1))\n",
    "print ('Сортировка кучей:', end=' ')\n",
    "g=heap_sort(copy.deepcopy(result1))\n",
    "print ('Встроенная сортировка:', end=' ')\n",
    "h=default_sort(copy.deepcopy(result1))\n",
    "for i in range(100):\n",
    "    for j in range(100):\n",
    "        if a[i][j] == b[i][j] and a[i][j] == c[i][j] and a[i][j] == d[i][j] and a[i][j] == e[i][j] and a[i][j] == f[i][j] and a[i][j] == g[i][j]:\n",
    "            pass"
   ]
  },
  {
   "cell_type": "markdown",
   "id": "44093294",
   "metadata": {},
   "source": [
    "### Вывод\n",
    "\n",
    "Самой быстрой сортировкой оказалась встроенная сортировка, самой медленной сортировкой оказалась турнирная сортировка."
   ]
  }
 ],
 "metadata": {
  "kernelspec": {
   "display_name": "Python 3 (ipykernel)",
   "language": "python",
   "name": "python3"
  },
  "language_info": {
   "codemirror_mode": {
    "name": "ipython",
    "version": 3
   },
   "file_extension": ".py",
   "mimetype": "text/x-python",
   "name": "python",
   "nbconvert_exporter": "python",
   "pygments_lexer": "ipython3",
   "version": "3.9.7"
  }
 },
 "nbformat": 4,
 "nbformat_minor": 5
}
